{
 "cells": [
  {
   "cell_type": "code",
   "execution_count": null,
   "metadata": {},
   "outputs": [],
   "source": [
    "from flask import Flask, render_template, request, jsonify\n",
    "\n",
    "# Change based on Saved location\n",
    "path = r'C:\\Users\\Brylle\\Desktop\\CS180-Project\\templates'\n",
    "\n",
    "app = Flask(__name__, static_folder = path)\n",
    "\n",
    "@app.route('/')\n",
    "def index():\n",
    "    return render_template('index.html')\n",
    "\n",
    "@app.route('/calculate', methods=['POST'])\n",
    "def calculate():\n",
    "    a = int(request.form['a'])\n",
    "    b = int(request.form['b'])\n",
    "    c = int(request.form['c'])\n",
    "    # Call the function that calculates the result\n",
    "    result = (a ** 2) + (b ** 2) + (c ** 2)\n",
    "    return jsonify(result=result)\n",
    "\n",
    "if __name__ == '__main__':\n",
    "    app.run(host='0.0.0.0')"
   ]
  },
  {
   "cell_type": "code",
   "execution_count": null,
   "metadata": {},
   "outputs": [],
   "source": []
  }
 ],
 "metadata": {
  "kernelspec": {
   "display_name": "base",
   "language": "python",
   "name": "python3"
  },
  "language_info": {
   "codemirror_mode": {
    "name": "ipython",
    "version": 3
   },
   "file_extension": ".py",
   "mimetype": "text/x-python",
   "name": "python",
   "nbconvert_exporter": "python",
   "pygments_lexer": "ipython3",
   "version": "3.9.16"
  },
  "orig_nbformat": 4
 },
 "nbformat": 4,
 "nbformat_minor": 2
}
